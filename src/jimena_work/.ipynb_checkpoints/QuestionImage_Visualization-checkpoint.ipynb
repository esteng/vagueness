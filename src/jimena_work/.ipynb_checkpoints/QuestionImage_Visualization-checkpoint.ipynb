{
 "cells": [
  {
   "cell_type": "code",
   "execution_count": 1,
   "metadata": {},
   "outputs": [
    {
     "ename": "ModuleNotFoundError",
     "evalue": "No module named 'PIL'",
     "output_type": "error",
     "traceback": [
      "\u001b[0;31m---------------------------------------------------------------------------\u001b[0m",
      "\u001b[0;31mModuleNotFoundError\u001b[0m                       Traceback (most recent call last)",
      "\u001b[0;32m<ipython-input-1-c8949346a3c1>\u001b[0m in \u001b[0;36m<module>\u001b[0;34m\u001b[0m\n\u001b[1;32m      3\u001b[0m \u001b[0;32mimport\u001b[0m \u001b[0mmatplotlib\u001b[0m\u001b[0;34m.\u001b[0m\u001b[0mpyplot\u001b[0m \u001b[0;32mas\u001b[0m \u001b[0mplt\u001b[0m\u001b[0;34m\u001b[0m\u001b[0;34m\u001b[0m\u001b[0m\n\u001b[1;32m      4\u001b[0m \u001b[0;32mimport\u001b[0m \u001b[0mmatplotlib\u001b[0m\u001b[0;34m.\u001b[0m\u001b[0mimage\u001b[0m \u001b[0;32mas\u001b[0m \u001b[0mmpimg\u001b[0m\u001b[0;34m\u001b[0m\u001b[0;34m\u001b[0m\u001b[0m\n\u001b[0;32m----> 5\u001b[0;31m \u001b[0;32mfrom\u001b[0m \u001b[0mPIL\u001b[0m \u001b[0;32mimport\u001b[0m \u001b[0mImage\u001b[0m\u001b[0;34m\u001b[0m\u001b[0;34m\u001b[0m\u001b[0m\n\u001b[0m\u001b[1;32m      6\u001b[0m \u001b[0;34m\u001b[0m\u001b[0m\n\u001b[1;32m      7\u001b[0m \u001b[0;32mwith\u001b[0m \u001b[0mopen\u001b[0m\u001b[0;34m(\u001b[0m\u001b[0;34m'/home/jgualla1/vagueness/src/jimena_work/output.json'\u001b[0m\u001b[0;34m)\u001b[0m \u001b[0;32mas\u001b[0m \u001b[0mf\u001b[0m\u001b[0;34m:\u001b[0m\u001b[0;34m\u001b[0m\u001b[0;34m\u001b[0m\u001b[0m\n",
      "\u001b[0;31mModuleNotFoundError\u001b[0m: No module named 'PIL'"
     ]
    }
   ],
   "source": [
    "import json\n",
    "import re\n",
    "import matplotlib.pyplot as plt\n",
    "import matplotlib.image as mpimg\n",
    "from PIL import Image\n",
    "\n",
    "with open('/home/jgualla1/vagueness/src/jimena_work/output.json') as f:\n",
    "    total_question_dict = json.load(f)\n",
    "    \n",
    "with open('/export/a14/jgualla1/v2_mscoco_val2014_complementary_pairs.json') as h:\n",
    "    total_pairs_dict = json.load(h)\n",
    "    \n",
    "#print(total_question_dict)\n",
    "print(total_pairs_dict)"
   ]
  },
  {
   "cell_type": "code",
   "execution_count": null,
   "metadata": {},
   "outputs": [],
   "source": [
    "#img=mpimg.imread('/export/a14/jgualla1/val2014/COCO_val2014_000000000001.jpg')\n",
    "#imgplot = plt.imshow(img)\n",
    "#plt.show()ff\n",
    "#filename = '/export/a14/jgualla1/val2014/COCO_val2014_000000190753.jpg'\n",
    "#image = Image.open(filename)\n",
    "#image.show()\n",
    "#print(len(total_question_dict))\n",
    "for key in total_question_dict:\n",
    "    question_dict = total_question_dict[key]\n",
    "    #print(question_dict)\n",
    "    #print(question_dict['imageId'])\n",
    "    question_id = question_dict['question_id']\n",
    "    image_id = question_dict['imageId']\n",
    "    image_length = len(str(image_id))\n",
    "    needed_length = 12 - image_length\n",
    "    needed_zeros = str(0)\n",
    "    for x in range(0, needed_length-1):\n",
    "        needed_zeros = needed_zeros + str(0)\n",
    "    image = mpimg.imread(\"/export/a14/jgualla1/val2014/COCO_val2014_\" + str(needed_zeros) + str(image_id) + \".jpg\")\n",
    "    print(question_dict['question'])\n",
    "    for pair in total_pairs_dict:\n",
    "        if pair[0] == question_id:\n",
    "            print(\"Question pair id: \" + str(pair[1]))\n",
    "    print(question_dict['question_answers'][0])\n",
    "    plt.imshow(image)\n",
    "    plt.axis(\"off\")\n",
    "    plt.imshow(image)\n",
    "    plt.show()\n",
    "    print(\"________________________________________\")\n",
    "    print(\" \")"
   ]
  },
  {
   "cell_type": "code",
   "execution_count": null,
   "metadata": {},
   "outputs": [],
   "source": []
  }
 ],
 "metadata": {
  "kernelspec": {
   "display_name": "Python 3",
   "language": "python",
   "name": "python3"
  },
  "language_info": {
   "codemirror_mode": {
    "name": "ipython",
    "version": 3
   },
   "file_extension": ".py",
   "mimetype": "text/x-python",
   "name": "python",
   "nbconvert_exporter": "python",
   "pygments_lexer": "ipython3",
   "version": "3.7.7"
  }
 },
 "nbformat": 4,
 "nbformat_minor": 2
}
