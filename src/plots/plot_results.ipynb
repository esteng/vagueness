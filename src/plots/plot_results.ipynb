{
 "cells": [
  {
   "cell_type": "code",
   "execution_count": 11,
   "metadata": {},
   "outputs": [],
   "source": [
    "import json\n",
    "from matplotlib import pyplot as plt\n",
    "import os \n",
    "\n",
    "figure_path = \"/Users/Elias/vagueness/figures\"\n",
    "def parse_results(json_path):\n",
    "    with open(json_path) as f1:\n",
    "        data = json.load(f1)\n",
    "    to_ret = {}\n",
    "    for line in data:\n",
    "        to_ret[line[\"question_id\"]] = line\n",
    "    return to_ret\n",
    "\n",
    "def parse_inputs(json_path):\n",
    "    to_ret = {}\n",
    "    with open(json_path) as f1:\n",
    "        data = json.load(f1) \n",
    "    for instance in data:\n",
    "        instance_dict = {\"qid\": instance[\"question_id\"],\n",
    "                         \"sent\": instance[\"sent\"],\n",
    "                         \"answers\": instance[\"score_answers\"],\n",
    "                         \"mean_ans\": sum(instance[\"score_answers\"])/len(instance[\"score_answers\"]), \n",
    "                         \"img_id\": instance[\"img_id\"]\n",
    "                        }\n",
    "        to_ret[instance[\"question_id\"]] = instance_dict\n",
    "    return to_ret\n",
    "    \n",
    "        "
   ]
  },
  {
   "cell_type": "code",
   "execution_count": 12,
   "metadata": {},
   "outputs": [],
   "source": [
    "\n",
    "\n",
    "def simple_plot(inputs_path, results_path):\n",
    "    \"\"\"\n",
    "    simple plot for comparing the results \n",
    "    \"\"\"\n",
    "    split = os.path.basename(inputs_path).split(\".\")[0]\n",
    "    inputs = parse_inputs(inputs_path)\n",
    "    results = parse_results(results_path)\n",
    "    \n",
    "    to_plot_human_scores = []\n",
    "    to_plot_colors = []\n",
    "    to_plot_yes = []\n",
    "    to_plot_no = []\n",
    "    to_plot_xs = []\n",
    "    \n",
    "    # sort inputs by mean answer\n",
    "    sorted_inputs = sorted(inputs.items(), key = lambda x: x[1][\"mean_ans\"])\n",
    "    keys = [x[0] for x in sorted_inputs]\n",
    "    \n",
    "    for i, qid in enumerate(keys):\n",
    "        input_data = inputs[qid]\n",
    "        result_data = results[qid]\n",
    "        \n",
    "        \n",
    "#         try:\n",
    "        to_plot_human_scores.append(input_data[\"mean_ans\"])\n",
    "        to_plot_yes.append(result_data[\"answer\"][\"yes\"])\n",
    "        to_plot_no.append(result_data[\"answer\"][\"no\"])\n",
    "        to_plot_xs.append(i)\n",
    "        if input_data[\"mean_ans\"] > 0.5:\n",
    "            color = \"True\"\n",
    "        else:\n",
    "            color = \"False\"\n",
    "        to_plot_colors.append(color)\n",
    "\n",
    "#         except KeyError:\n",
    "#             continue\n",
    "            \n",
    "    \n",
    "    markers = {\"True\": \".\" ,\n",
    "           \"False\": \".\"}\n",
    "    \n",
    "    palette = {\"True\": '#4575b4' ,\n",
    "           \"False\": '#d73027'}\n",
    "            \n",
    "    # VERSION 1\n",
    "    plt.figure()\n",
    "    fig, axs = plt.subplots(3, 1, sharex='col', figsize=(6,6))\n",
    "    for x, y, c in zip(to_plot_xs, to_plot_human_scores, to_plot_colors):\n",
    "        axs[0].scatter([x], [y], s = 150, marker = markers[c], color = palette[c])\n",
    "\n",
    "    for x, y, c in zip(to_plot_xs, to_plot_yes, to_plot_colors):\n",
    "        axs[1].scatter([x], [y], s = 150, marker = markers[c], color = palette[c])  \n",
    "    \n",
    "    for x, y, c in zip(to_plot_xs, to_plot_no, to_plot_colors):\n",
    "        axs[2].scatter([x], [y], s = 150, marker = markers[c], color = palette[c])  \n",
    "        \n",
    "\n",
    "    axs[1].set_yticks([0.0, 1.0])\n",
    "    axs[1].set_yticklabels([0.0, 1.0])\n",
    "    for i in range(len(axs)):\n",
    "        axs[i].set_xticks([])\n",
    "        axs[i].set_xticklabels([])\n",
    "        axs[i].spines['right'].set_visible(False)\n",
    "        axs[i].spines['top'].set_visible(False)\n",
    "    #     axs[i].spines['bottom'].set_visible(False)\n",
    "    #     axs[i].spines['left'].set_visible(False)\n",
    "    # axs[0].spines['bottom'].set_visible(True)\n",
    "    plt.tight_layout()\n",
    "    plt.savefig(os.path.join(figure_path, f\"{split}.pdf\")) \n"
   ]
  },
  {
   "cell_type": "code",
   "execution_count": 13,
   "metadata": {},
   "outputs": [
    {
     "ename": "FileNotFoundError",
     "evalue": "[Errno 2] No such file or directory: '/Users/Elias/vagueness/data/output_new_scored.json'",
     "output_type": "error",
     "traceback": [
      "\u001b[0;31m---------------------------------------------------------------------------\u001b[0m",
      "\u001b[0;31mFileNotFoundError\u001b[0m                         Traceback (most recent call last)",
      "\u001b[0;32m<ipython-input-13-bb9f28f7a75d>\u001b[0m in \u001b[0;36m<module>\u001b[0;34m\u001b[0m\n\u001b[0;32m----> 1\u001b[0;31m \u001b[0msimple_plot\u001b[0m\u001b[0;34m(\u001b[0m\u001b[0;34m\"/Users/Elias/vagueness/data/output_new_scored.json\"\u001b[0m\u001b[0;34m,\u001b[0m \u001b[0;34m\"/Users/Elias/vagueness/results/output_new_scored.json\"\u001b[0m\u001b[0;34m)\u001b[0m\u001b[0;34m\u001b[0m\u001b[0;34m\u001b[0m\u001b[0m\n\u001b[0m",
      "\u001b[0;32m<ipython-input-12-b68e9c2e11ab>\u001b[0m in \u001b[0;36msimple_plot\u001b[0;34m(inputs_path, results_path)\u001b[0m\n\u001b[1;32m      4\u001b[0m     \"\"\"\n\u001b[1;32m      5\u001b[0m     \u001b[0msplit\u001b[0m \u001b[0;34m=\u001b[0m \u001b[0mos\u001b[0m\u001b[0;34m.\u001b[0m\u001b[0mpath\u001b[0m\u001b[0;34m.\u001b[0m\u001b[0mbasename\u001b[0m\u001b[0;34m(\u001b[0m\u001b[0minputs_path\u001b[0m\u001b[0;34m)\u001b[0m\u001b[0;34m.\u001b[0m\u001b[0msplit\u001b[0m\u001b[0;34m(\u001b[0m\u001b[0;34m\".\"\u001b[0m\u001b[0;34m)\u001b[0m\u001b[0;34m[\u001b[0m\u001b[0;36m0\u001b[0m\u001b[0;34m]\u001b[0m\u001b[0;34m\u001b[0m\u001b[0;34m\u001b[0m\u001b[0m\n\u001b[0;32m----> 6\u001b[0;31m     \u001b[0minputs\u001b[0m \u001b[0;34m=\u001b[0m \u001b[0mparse_inputs\u001b[0m\u001b[0;34m(\u001b[0m\u001b[0minputs_path\u001b[0m\u001b[0;34m)\u001b[0m\u001b[0;34m\u001b[0m\u001b[0;34m\u001b[0m\u001b[0m\n\u001b[0m\u001b[1;32m      7\u001b[0m     \u001b[0mresults\u001b[0m \u001b[0;34m=\u001b[0m \u001b[0mparse_results\u001b[0m\u001b[0;34m(\u001b[0m\u001b[0mresults_path\u001b[0m\u001b[0;34m)\u001b[0m\u001b[0;34m\u001b[0m\u001b[0;34m\u001b[0m\u001b[0m\n\u001b[1;32m      8\u001b[0m \u001b[0;34m\u001b[0m\u001b[0m\n",
      "\u001b[0;32m<ipython-input-11-c2f9aff3cd22>\u001b[0m in \u001b[0;36mparse_inputs\u001b[0;34m(json_path)\u001b[0m\n\u001b[1;32m     14\u001b[0m \u001b[0;32mdef\u001b[0m \u001b[0mparse_inputs\u001b[0m\u001b[0;34m(\u001b[0m\u001b[0mjson_path\u001b[0m\u001b[0;34m)\u001b[0m\u001b[0;34m:\u001b[0m\u001b[0;34m\u001b[0m\u001b[0;34m\u001b[0m\u001b[0m\n\u001b[1;32m     15\u001b[0m     \u001b[0mto_ret\u001b[0m \u001b[0;34m=\u001b[0m \u001b[0;34m{\u001b[0m\u001b[0;34m}\u001b[0m\u001b[0;34m\u001b[0m\u001b[0;34m\u001b[0m\u001b[0m\n\u001b[0;32m---> 16\u001b[0;31m     \u001b[0;32mwith\u001b[0m \u001b[0mopen\u001b[0m\u001b[0;34m(\u001b[0m\u001b[0mjson_path\u001b[0m\u001b[0;34m)\u001b[0m \u001b[0;32mas\u001b[0m \u001b[0mf1\u001b[0m\u001b[0;34m:\u001b[0m\u001b[0;34m\u001b[0m\u001b[0;34m\u001b[0m\u001b[0m\n\u001b[0m\u001b[1;32m     17\u001b[0m         \u001b[0mdata\u001b[0m \u001b[0;34m=\u001b[0m \u001b[0mjson\u001b[0m\u001b[0;34m.\u001b[0m\u001b[0mload\u001b[0m\u001b[0;34m(\u001b[0m\u001b[0mf1\u001b[0m\u001b[0;34m)\u001b[0m\u001b[0;34m\u001b[0m\u001b[0;34m\u001b[0m\u001b[0m\n\u001b[1;32m     18\u001b[0m     \u001b[0;32mfor\u001b[0m \u001b[0minstance\u001b[0m \u001b[0;32min\u001b[0m \u001b[0mdata\u001b[0m\u001b[0;34m:\u001b[0m\u001b[0;34m\u001b[0m\u001b[0;34m\u001b[0m\u001b[0m\n",
      "\u001b[0;31mFileNotFoundError\u001b[0m: [Errno 2] No such file or directory: '/Users/Elias/vagueness/data/output_new_scored.json'"
     ]
    }
   ],
   "source": [
    "simple_plot(\"/Users/Elias/vagueness/data/output_new_scored.json\", \"/Users/Elias/vagueness/results/output_new_scored.json\")"
   ]
  },
  {
   "cell_type": "code",
   "execution_count": 14,
   "metadata": {},
   "outputs": [
    {
     "ename": "FileNotFoundError",
     "evalue": "[Errno 2] No such file or directory: '/Users/Elias/vagueness/data/output_sunny_scored.json'",
     "output_type": "error",
     "traceback": [
      "\u001b[0;31m---------------------------------------------------------------------------\u001b[0m",
      "\u001b[0;31mFileNotFoundError\u001b[0m                         Traceback (most recent call last)",
      "\u001b[0;32m<ipython-input-14-5e93015ca235>\u001b[0m in \u001b[0;36m<module>\u001b[0;34m\u001b[0m\n\u001b[0;32m----> 1\u001b[0;31m \u001b[0msimple_plot\u001b[0m\u001b[0;34m(\u001b[0m\u001b[0;34m\"/Users/Elias/vagueness/data/output_sunny_scored.json\"\u001b[0m\u001b[0;34m,\u001b[0m \u001b[0;34m\"/Users/Elias/vagueness/results/output_sunny_scored.json\"\u001b[0m\u001b[0;34m)\u001b[0m\u001b[0;34m\u001b[0m\u001b[0;34m\u001b[0m\u001b[0m\n\u001b[0m",
      "\u001b[0;32m<ipython-input-12-b68e9c2e11ab>\u001b[0m in \u001b[0;36msimple_plot\u001b[0;34m(inputs_path, results_path)\u001b[0m\n\u001b[1;32m      4\u001b[0m     \"\"\"\n\u001b[1;32m      5\u001b[0m     \u001b[0msplit\u001b[0m \u001b[0;34m=\u001b[0m \u001b[0mos\u001b[0m\u001b[0;34m.\u001b[0m\u001b[0mpath\u001b[0m\u001b[0;34m.\u001b[0m\u001b[0mbasename\u001b[0m\u001b[0;34m(\u001b[0m\u001b[0minputs_path\u001b[0m\u001b[0;34m)\u001b[0m\u001b[0;34m.\u001b[0m\u001b[0msplit\u001b[0m\u001b[0;34m(\u001b[0m\u001b[0;34m\".\"\u001b[0m\u001b[0;34m)\u001b[0m\u001b[0;34m[\u001b[0m\u001b[0;36m0\u001b[0m\u001b[0;34m]\u001b[0m\u001b[0;34m\u001b[0m\u001b[0;34m\u001b[0m\u001b[0m\n\u001b[0;32m----> 6\u001b[0;31m     \u001b[0minputs\u001b[0m \u001b[0;34m=\u001b[0m \u001b[0mparse_inputs\u001b[0m\u001b[0;34m(\u001b[0m\u001b[0minputs_path\u001b[0m\u001b[0;34m)\u001b[0m\u001b[0;34m\u001b[0m\u001b[0;34m\u001b[0m\u001b[0m\n\u001b[0m\u001b[1;32m      7\u001b[0m     \u001b[0mresults\u001b[0m \u001b[0;34m=\u001b[0m \u001b[0mparse_results\u001b[0m\u001b[0;34m(\u001b[0m\u001b[0mresults_path\u001b[0m\u001b[0;34m)\u001b[0m\u001b[0;34m\u001b[0m\u001b[0;34m\u001b[0m\u001b[0m\n\u001b[1;32m      8\u001b[0m \u001b[0;34m\u001b[0m\u001b[0m\n",
      "\u001b[0;32m<ipython-input-11-c2f9aff3cd22>\u001b[0m in \u001b[0;36mparse_inputs\u001b[0;34m(json_path)\u001b[0m\n\u001b[1;32m     14\u001b[0m \u001b[0;32mdef\u001b[0m \u001b[0mparse_inputs\u001b[0m\u001b[0;34m(\u001b[0m\u001b[0mjson_path\u001b[0m\u001b[0;34m)\u001b[0m\u001b[0;34m:\u001b[0m\u001b[0;34m\u001b[0m\u001b[0;34m\u001b[0m\u001b[0m\n\u001b[1;32m     15\u001b[0m     \u001b[0mto_ret\u001b[0m \u001b[0;34m=\u001b[0m \u001b[0;34m{\u001b[0m\u001b[0;34m}\u001b[0m\u001b[0;34m\u001b[0m\u001b[0;34m\u001b[0m\u001b[0m\n\u001b[0;32m---> 16\u001b[0;31m     \u001b[0;32mwith\u001b[0m \u001b[0mopen\u001b[0m\u001b[0;34m(\u001b[0m\u001b[0mjson_path\u001b[0m\u001b[0;34m)\u001b[0m \u001b[0;32mas\u001b[0m \u001b[0mf1\u001b[0m\u001b[0;34m:\u001b[0m\u001b[0;34m\u001b[0m\u001b[0;34m\u001b[0m\u001b[0m\n\u001b[0m\u001b[1;32m     17\u001b[0m         \u001b[0mdata\u001b[0m \u001b[0;34m=\u001b[0m \u001b[0mjson\u001b[0m\u001b[0;34m.\u001b[0m\u001b[0mload\u001b[0m\u001b[0;34m(\u001b[0m\u001b[0mf1\u001b[0m\u001b[0;34m)\u001b[0m\u001b[0;34m\u001b[0m\u001b[0;34m\u001b[0m\u001b[0m\n\u001b[1;32m     18\u001b[0m     \u001b[0;32mfor\u001b[0m \u001b[0minstance\u001b[0m \u001b[0;32min\u001b[0m \u001b[0mdata\u001b[0m\u001b[0;34m:\u001b[0m\u001b[0;34m\u001b[0m\u001b[0;34m\u001b[0m\u001b[0m\n",
      "\u001b[0;31mFileNotFoundError\u001b[0m: [Errno 2] No such file or directory: '/Users/Elias/vagueness/data/output_sunny_scored.json'"
     ]
    }
   ],
   "source": [
    "simple_plot(\"/Users/Elias/vagueness/data/output_sunny_scored.json\", \"/Users/Elias/vagueness/results/output_sunny_scored.json\")"
   ]
  },
  {
   "cell_type": "code",
   "execution_count": 15,
   "metadata": {},
   "outputs": [
    {
     "ename": "FileNotFoundError",
     "evalue": "[Errno 2] No such file or directory: '/Users/Elias/vagueness/data/output_cloudy_scored.json'",
     "output_type": "error",
     "traceback": [
      "\u001b[0;31m---------------------------------------------------------------------------\u001b[0m",
      "\u001b[0;31mFileNotFoundError\u001b[0m                         Traceback (most recent call last)",
      "\u001b[0;32m<ipython-input-15-7ff4b435a383>\u001b[0m in \u001b[0;36m<module>\u001b[0;34m\u001b[0m\n\u001b[0;32m----> 1\u001b[0;31m \u001b[0msimple_plot\u001b[0m\u001b[0;34m(\u001b[0m\u001b[0;34m\"/Users/Elias/vagueness/data/output_cloudy_scored.json\"\u001b[0m\u001b[0;34m,\u001b[0m \u001b[0;34m\"/Users/Elias/vagueness/results/output_cloudy_scored.json\"\u001b[0m\u001b[0;34m)\u001b[0m\u001b[0;34m\u001b[0m\u001b[0;34m\u001b[0m\u001b[0m\n\u001b[0m",
      "\u001b[0;32m<ipython-input-12-b68e9c2e11ab>\u001b[0m in \u001b[0;36msimple_plot\u001b[0;34m(inputs_path, results_path)\u001b[0m\n\u001b[1;32m      4\u001b[0m     \"\"\"\n\u001b[1;32m      5\u001b[0m     \u001b[0msplit\u001b[0m \u001b[0;34m=\u001b[0m \u001b[0mos\u001b[0m\u001b[0;34m.\u001b[0m\u001b[0mpath\u001b[0m\u001b[0;34m.\u001b[0m\u001b[0mbasename\u001b[0m\u001b[0;34m(\u001b[0m\u001b[0minputs_path\u001b[0m\u001b[0;34m)\u001b[0m\u001b[0;34m.\u001b[0m\u001b[0msplit\u001b[0m\u001b[0;34m(\u001b[0m\u001b[0;34m\".\"\u001b[0m\u001b[0;34m)\u001b[0m\u001b[0;34m[\u001b[0m\u001b[0;36m0\u001b[0m\u001b[0;34m]\u001b[0m\u001b[0;34m\u001b[0m\u001b[0;34m\u001b[0m\u001b[0m\n\u001b[0;32m----> 6\u001b[0;31m     \u001b[0minputs\u001b[0m \u001b[0;34m=\u001b[0m \u001b[0mparse_inputs\u001b[0m\u001b[0;34m(\u001b[0m\u001b[0minputs_path\u001b[0m\u001b[0;34m)\u001b[0m\u001b[0;34m\u001b[0m\u001b[0;34m\u001b[0m\u001b[0m\n\u001b[0m\u001b[1;32m      7\u001b[0m     \u001b[0mresults\u001b[0m \u001b[0;34m=\u001b[0m \u001b[0mparse_results\u001b[0m\u001b[0;34m(\u001b[0m\u001b[0mresults_path\u001b[0m\u001b[0;34m)\u001b[0m\u001b[0;34m\u001b[0m\u001b[0;34m\u001b[0m\u001b[0m\n\u001b[1;32m      8\u001b[0m \u001b[0;34m\u001b[0m\u001b[0m\n",
      "\u001b[0;32m<ipython-input-11-c2f9aff3cd22>\u001b[0m in \u001b[0;36mparse_inputs\u001b[0;34m(json_path)\u001b[0m\n\u001b[1;32m     14\u001b[0m \u001b[0;32mdef\u001b[0m \u001b[0mparse_inputs\u001b[0m\u001b[0;34m(\u001b[0m\u001b[0mjson_path\u001b[0m\u001b[0;34m)\u001b[0m\u001b[0;34m:\u001b[0m\u001b[0;34m\u001b[0m\u001b[0;34m\u001b[0m\u001b[0m\n\u001b[1;32m     15\u001b[0m     \u001b[0mto_ret\u001b[0m \u001b[0;34m=\u001b[0m \u001b[0;34m{\u001b[0m\u001b[0;34m}\u001b[0m\u001b[0;34m\u001b[0m\u001b[0;34m\u001b[0m\u001b[0m\n\u001b[0;32m---> 16\u001b[0;31m     \u001b[0;32mwith\u001b[0m \u001b[0mopen\u001b[0m\u001b[0;34m(\u001b[0m\u001b[0mjson_path\u001b[0m\u001b[0;34m)\u001b[0m \u001b[0;32mas\u001b[0m \u001b[0mf1\u001b[0m\u001b[0;34m:\u001b[0m\u001b[0;34m\u001b[0m\u001b[0;34m\u001b[0m\u001b[0m\n\u001b[0m\u001b[1;32m     17\u001b[0m         \u001b[0mdata\u001b[0m \u001b[0;34m=\u001b[0m \u001b[0mjson\u001b[0m\u001b[0;34m.\u001b[0m\u001b[0mload\u001b[0m\u001b[0;34m(\u001b[0m\u001b[0mf1\u001b[0m\u001b[0;34m)\u001b[0m\u001b[0;34m\u001b[0m\u001b[0;34m\u001b[0m\u001b[0m\n\u001b[1;32m     18\u001b[0m     \u001b[0;32mfor\u001b[0m \u001b[0minstance\u001b[0m \u001b[0;32min\u001b[0m \u001b[0mdata\u001b[0m\u001b[0;34m:\u001b[0m\u001b[0;34m\u001b[0m\u001b[0;34m\u001b[0m\u001b[0m\n",
      "\u001b[0;31mFileNotFoundError\u001b[0m: [Errno 2] No such file or directory: '/Users/Elias/vagueness/data/output_cloudy_scored.json'"
     ]
    }
   ],
   "source": [
    "simple_plot(\"/Users/Elias/vagueness/data/output_cloudy_scored.json\", \"/Users/Elias/vagueness/results/output_cloudy_scored.json\")"
   ]
  },
  {
   "cell_type": "code",
   "execution_count": 19,
   "metadata": {},
   "outputs": [],
   "source": [
    "def calculate_accuracy(inputs_path, results_path, skip_nonvague = False):\n",
    "    split = os.path.basename(inputs_path).split(\".\")[0]\n",
    "    inputs = parse_inputs(inputs_path)\n",
    "    results = parse_results(results_path)\n",
    "    \n",
    "    correct = 0.0 \n",
    "    total = 0.0 \n",
    "    print(inputs)\n",
    "    for qid in inputs.keys():\n",
    "\n",
    "        inp = inputs[qid]\n",
    "        out = results[qid]\n",
    "#         inp_score = sum(inp[\"answers\"])/len(inp[\"answers\"])\n",
    "        inp_score = inp[\"answers\"][0]\n",
    "        out_score = out[\"answer\"][\"yes\"]\n",
    "        \n",
    "        # skip non-vague\n",
    "        if skip_nonvague and inp[\"mean_ans\"] == 0 or inp[\"mean_ans\"] == 1:\n",
    "            continue \n",
    "        \n",
    "        if inp_score < 0.5 and out_score < 0.5 or inp_score >= 0.5 and out_score >= 0.5:\n",
    "             correct += 1\n",
    "                \n",
    "        total += 1\n",
    "    return \"%0.2f\" % (correct/total * 100)\n",
    "\n",
    "            \n",
    "    \n",
    "# new_acc = calculate_accuracy(\"/Users/Elias/vagueness/data/output_new_scored.json\", \n",
    "#                              \"/Users/Elias/vagueness/results/output_new_scored.json\")\n",
    "# print(f\"New total {new_acc}\") \n",
    "# new_acc_vague = calculate_accuracy(\"/Users/Elias/vagueness/data/output_new_scored.json\", \n",
    "#                                       \"/Users/Elias/vagueness/results/output_new_scored.json\", \n",
    "#                                       skip_nonvague=True)\n",
    "# print(f\"New vague only {new_acc_vague}\") \n",
    "      \n",
    "# sunny_acc = calculate_accuracy(\"/Users/Elias/vagueness/data/output_sunny_scored.json\", \n",
    "#                                \"/Users/Elias/vagueness/results/output_sunny_scored.json\")\n",
    "# print(f\"Sunny total {sunny_acc}\") \n",
    "# sunny_acc_vague = calculate_accuracy(\"/Users/Elias/vagueness/data/output_sunny_scored.json\", \n",
    "#                                \"/Users/Elias/vagueness/results/output_sunny_scored.json\",\n",
    "#                               skip_nonvague=True)\n",
    "# print(f\"Sunny vague only {sunny_acc_vague}\") \n",
    "      \n",
    "    \n",
    "# cloudy_acc = calculate_accuracy(\"/Users/Elias/vagueness/data/output_cloudy_scored.json\", \n",
    "#                                 \"/Users/Elias/vagueness/results/output_cloudy_scored.json\")\n",
    "# print(f\"Cloudy total {cloudy_acc}\")\n",
    "# cloudy_acc_vague = calculate_accuracy(\"/Users/Elias/vagueness/data/output_cloudy_scored.json\", \n",
    "#                                 \"/Users/Elias/vagueness/results/output_cloudy_scored.json\",\n",
    "#                                skip_nonvague=True)\n",
    "# print(f\"Cloudy vague only {cloudy_acc_vague}\")\n",
    "    "
   ]
  },
  {
   "cell_type": "code",
   "execution_count": 20,
   "metadata": {},
   "outputs": [
    {
     "name": "stdout",
     "output_type": "stream",
     "text": [
      "{}\n",
      "error with output_adult_wurl_yesno_checked\n",
      "{}\n",
      "error with output_cloudy_wurl_yesno_checked\n",
      "{}\n",
      "error with output_sunny_wurl_yesno_checked\n",
      "{}\n",
      "error with output_new_wurl_yesno_checked\n",
      "error with output_old_wurl_yesno_checked\n",
      "{}\n",
      "error with output_young_wurl_yesno_checked\n"
     ]
    }
   ],
   "source": [
    "\n",
    "def get_acc(filename):\n",
    "    input_path = f\"/Users/Elias/vagueness/data/vqa/json/output_json_yesno_checked/{filename}.json\"\n",
    "    output_path = f\"/Users/Elias/vagueness/results/lxmert/vqa/{filename}.json\"\n",
    "    try:\n",
    "        new_acc = calculate_accuracy(input_path, output_path)\n",
    "        print(f\"{filename}  total {new_acc}\") \n",
    "        new_acc_vague = calculate_accuracy(input_path, output_path, skip_nonvague=True)\n",
    "        print(f\"{filename}  vague only {new_acc_vague}\") \n",
    "    except:\n",
    "        print(f\"error with {filename}\")\n",
    "        \n",
    "for filename in [\"output_adult_wurl_yesno_checked\", \"output_cloudy_wurl_yesno_checked\",\n",
    "                \"output_sunny_wurl_yesno_checked\", \"output_new_wurl_yesno_checked\",\n",
    "                \"output_old_wurl_yesno_checked\", \"output_young_wurl_yesno_checked\"]:\n",
    "    get_acc(filename)"
   ]
  },
  {
   "cell_type": "code",
   "execution_count": null,
   "metadata": {},
   "outputs": [],
   "source": []
  },
  {
   "cell_type": "code",
   "execution_count": null,
   "metadata": {},
   "outputs": [],
   "source": []
  },
  {
   "cell_type": "code",
   "execution_count": null,
   "metadata": {},
   "outputs": [],
   "source": []
  }
 ],
 "metadata": {
  "kernelspec": {
   "display_name": "Python 3",
   "language": "python",
   "name": "python3"
  },
  "language_info": {
   "codemirror_mode": {
    "name": "ipython",
    "version": 3
   },
   "file_extension": ".py",
   "mimetype": "text/x-python",
   "name": "python",
   "nbconvert_exporter": "python",
   "pygments_lexer": "ipython3",
   "version": "3.7.7"
  }
 },
 "nbformat": 4,
 "nbformat_minor": 2
}
