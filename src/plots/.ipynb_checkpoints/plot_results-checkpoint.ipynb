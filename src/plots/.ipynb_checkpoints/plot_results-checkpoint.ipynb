{
 "cells": [
  {
   "cell_type": "code",
   "execution_count": null,
   "metadata": {},
   "outputs": [],
   "source": [
    "import os\n",
    "from analysis import parse_csv\n",
    "from collections import defaultdict, OrderedDict \n",
    "import numpy as np \n",
    "import seaborn as sns\n",
    "import pandas as pd\n",
    "import matplotlib \n",
    "from matplotlib import pyplot as plt \n",
    "\n",
    "font = {'family' : 'Times New Roman',\n",
    "        'weight' : 'normal',\n",
    "        'size'   : 20}\n",
    "\n",
    "matplotlib.rc('font', **font)\n",
    "\n",
    "def group_by(res_lines, variable_name):\n",
    "    to_ret = defaultdict(list)\n",
    "    for line in res_lines:\n",
    "        interest_key = line[variable_name]\n",
    "        to_ret[interest_key].append(line)\n",
    "        \n",
    "    return to_ret\n",
    "\n",
    "def sort_by_fxn(res_dict, fxn):\n",
    "    new_dict = OrderedDict()\n",
    "#     average = lambda x: sum(x)/len(x)\n",
    "    to_sort = []\n",
    "    for key, values in res_dict.items():\n",
    "        ps = [line['p_true'] for line in values]\n",
    "        score = fxn(ps)\n",
    "        to_sort.append((score, key, values))\n",
    "    to_sort = sorted(to_sort, key = lambda x: x[0])\n",
    "    \n",
    "    for __, key, values in to_sort:\n",
    "        new_dict[key] = values\n",
    "    return new_dict\n",
    "\n",
    "res_lines = parse_csv(\"/Users/Elias/Desktop/all_10.csv\")\n",
    "figure_path = \"/Users/Elias/analytic-acl-2020/figures/\"\n",
    "\n",
    "by_sent = group_by(res_lines, \"sent\")\n",
    "by_sent_sorted_avg = sort_by_fxn(by_sent, lambda x: np.mean(x))\n",
    "by_sent_sorted_std_dev = sort_by_fxn(by_sent, lambda x: np.std(x))\n",
    "\n",
    "xs = np.arange(len(by_sent_sorted_avg.keys()))\n",
    "human_ys = [np.mean([line['p_true']  for line in by_sent_sorted_avg[key] ] ) for key in by_sent_sorted_avg.keys() ]\n",
    "sents = [line[0]['sent'] for line in by_sent_sorted_avg.values()]\n",
    "\n",
    "true_colors = [lines[0]['label'] for lines in by_sent_sorted_avg.values() ]\n",
    "print(all_dev_logits.keys())\n",
    "model_preds = all_dev_logits['sequence_xlnet-base-cased']\n",
    "model_ys = [model_preds[sent][1] for sent in by_sent_sorted_avg.keys()]\n",
    "\n",
    "\n",
    "# palette = {\"True\": \"#91bfdb\" ,\n",
    "#            \"False\": \"#fc8d59\",\n",
    "#           \"tshirt1\": ,\n",
    "#           \"tshirt2\": ,\n",
    "#            \"journalism\": ,\n",
    "#            \"teammate\":           }\n",
    "\n",
    "palette = {\"True\": '#4575b4' ,\n",
    "           \"False\": '#d73027',\n",
    "          \"tshirt1\": '#e0f3f8',\n",
    "          \"tshirt2\": '#fee090',\n",
    "           \"journalism\": '#fc8d59',\n",
    "           \"teammate\": '#91bfdb'}\n",
    "\n",
    "markers = {\"True\": \".\" ,\n",
    "           \"False\": \".\"}\n",
    "\n",
    "\n",
    "sentences_of_interest = {'T-shirt is an archaic term for clothing': \"tshirt1\", \n",
    "                         'journalism is newspapers and magazines collectively': \"journalism\",\n",
    "                        'T-shirt is a close-fitting pullover shirt':\"tshirt2\", \n",
    "                         'a teammate is someone who is under suspicion':\"teammate\"}\n",
    "\n",
    "\n",
    "# VERSION 1\n",
    "plt.figure()\n",
    "fig, axs = plt.subplots(2, 1, sharex='col', figsize=(6,3))\n",
    "for x, y, c, s in zip(xs, human_ys, true_colors, sents):\n",
    "    color =c \n",
    "    if s in sentences_of_interest.keys():\n",
    "        color =  sentences_of_interest[s]\n",
    "    \n",
    "    axs[0].scatter([x], [y], s = 150, marker = markers[c], color = palette[color])\n",
    "\n",
    "for x, y, c, s in zip(xs, model_ys, true_colors, sents):\n",
    "    color=c\n",
    "    if s in sentences_of_interest.keys():\n",
    "        color =  sentences_of_interest[s]\n",
    "    axs[1].scatter([x], [y], s = 150, marker = markers[c], color = palette[color])  \n",
    "\n",
    "axs[1].set_yticks([0.0, 1.0])\n",
    "axs[1].set_yticklabels([0.0, 1.0])\n",
    "for i in range(len(axs)):\n",
    "    axs[i].set_xticks([])\n",
    "    axs[i].set_xticklabels([])\n",
    "    axs[i].spines['right'].set_visible(False)\n",
    "    axs[i].spines['top'].set_visible(False)\n",
    "#     axs[i].spines['bottom'].set_visible(False)\n",
    "#     axs[i].spines['left'].set_visible(False)\n",
    "# axs[0].spines['bottom'].set_visible(True)\n",
    "plt.tight_layout()\n",
    "plt.savefig(os.path.join(figure_path, \"scores_version_1.pdf\")) \n",
    "# VERSION 2\n",
    "if False:\n",
    "\n",
    "\n",
    "\n",
    "\n",
    "    plt.figure()\n",
    "    fig, axs = plt.subplots(1, 1, sharex='col', figsize=(8, 3))\n",
    "    model_colors = [\"True\" if y > 0.50 else \"False\" for y in model_ys ]\n",
    "\n",
    "    for x, y, c in zip(xs, human_ys, model_colors):\n",
    "        axs.scatter([x], [y], s = 150, marker = markers[c], color = palette[c])\n",
    "\n",
    "    axs.set_xticks([])\n",
    "    axs.set_xticklabels([])\n",
    "    axs.spines['right'].set_visible(False)\n",
    "    axs.spines['top'].set_visible(False)\n",
    "    # axs.spines['bottom'].set_visible(False)\n",
    "    # axs.spines['left'].set_visible(False)\n",
    "\n",
    "    plt.tight_layout()\n",
    "    plt.savefig(os.path.join(figure_path, \"scores_version_2.pdf\")) \n",
    "\n",
    "    # plt.fill_between(data_frame['example'], \n",
    "    #                  data_frame['mean'] - data_frame['std_dev'],\n",
    "    #                  data_frame['mean'] +  data_frame['std_dev'],\n",
    "    #                 alpha = 0.3)\n",
    "\n",
    "\n",
    "\n",
    "\n"
   ]
  },
  {
   "cell_type": "code",
   "execution_count": 5,
   "metadata": {},
   "outputs": [],
   "source": []
  },
  {
   "cell_type": "code",
   "execution_count": null,
   "metadata": {},
   "outputs": [],
   "source": []
  },
  {
   "cell_type": "markdown",
   "metadata": {},
   "source": []
  },
  {
   "cell_type": "code",
   "execution_count": null,
   "metadata": {},
   "outputs": [],
   "source": []
  },
  {
   "cell_type": "markdown",
   "metadata": {},
   "source": []
  },
  {
   "cell_type": "code",
   "execution_count": 8,
   "metadata": {},
   "outputs": [],
   "source": []
  },
  {
   "cell_type": "code",
   "execution_count": null,
   "metadata": {},
   "outputs": [],
   "source": []
  },
  {
   "cell_type": "markdown",
   "metadata": {},
   "source": []
  },
  {
   "cell_type": "markdown",
   "metadata": {},
   "source": []
  },
  {
   "cell_type": "code",
   "execution_count": null,
   "metadata": {},
   "outputs": [],
   "source": []
  },
  {
   "cell_type": "markdown",
   "metadata": {},
   "source": []
  },
  {
   "cell_type": "markdown",
   "metadata": {},
   "source": []
  },
  {
   "cell_type": "code",
   "execution_count": null,
   "metadata": {},
   "outputs": [],
   "source": []
  },
  {
   "cell_type": "markdown",
   "metadata": {},
   "source": []
  },
  {
   "cell_type": "markdown",
   "metadata": {},
   "source": []
  },
  {
   "cell_type": "code",
   "execution_count": null,
   "metadata": {
    "scrolled": true
   },
   "outputs": [],
   "source": []
  },
  {
   "cell_type": "markdown",
   "metadata": {},
   "source": []
  },
  {
   "cell_type": "markdown",
   "metadata": {},
   "source": []
  },
  {
   "cell_type": "code",
   "execution_count": null,
   "metadata": {
    "scrolled": true
   },
   "outputs": [],
   "source": []
  },
  {
   "cell_type": "markdown",
   "metadata": {},
   "source": []
  },
  {
   "cell_type": "markdown",
   "metadata": {},
   "source": []
  },
  {
   "cell_type": "code",
   "execution_count": null,
   "metadata": {},
   "outputs": [],
   "source": []
  },
  {
   "cell_type": "markdown",
   "metadata": {},
   "source": []
  },
  {
   "cell_type": "markdown",
   "metadata": {},
   "source": []
  },
  {
   "cell_type": "code",
   "execution_count": 15,
   "metadata": {},
   "outputs": [
    {
     "name": "stdout",
     "output_type": "stream",
     "text": [
      "a coat is an archaic term for clothing: [7.0, 0.0, 23.0, 0.0, 38.0, 91.0, 50.0, 0.0, 29.0, 4.0], 27.934924377918044\n",
      "\t[0.39029855 0.60970145]\n",
      "a separation is an abstraction belonging to or characteristic of two entities or parts together: [0.0, 50.0, 40.0, 68.0, 10.0, 0.0, 42.0, 60.0, 94.0, 21.0], 29.3981291921782\n",
      "\t[0.79570439 0.20429561]\n",
      "a transit is a surveying instrument for measuring horizontal and vertical angles, consisting of a small telescope mounted on a tripod: [78.0, 28.0, 49.0, 100.0, 20.0, 100.0, 100.0, 59.0, 100.0, 50.0], 29.77314225942569\n",
      "\t[0.96500084 0.03499916]\n",
      "Congress is a gathering of the minimal number of members of an organization to conduct business: [46.0, 30.0, 11.0, 86.0, 57.0, 82.0, 0.0, 86.0, 4.0, 24.0], 32.1658203688325\n",
      "\t[0.08614913 0.91385087]\n",
      "wheat is narrow-leaved green herbage: grown as lawns; used as pasture for grazing animals; cut and dried as hay: [68.0, 25.0, 66.0, 10.0, 98.0, 18.0, 55.0, 84.0, 6.0, 0.0], 33.555923471125034\n",
      "\t[0.98397094 0.01602906]\n",
      "an accent is (language) communication by word of mouth: [100.0, 93.0, 2.0, 78.0, 54.0, 0.0, 18.0, 25.0, 57.0, 55.0], 34.122719704032974\n",
      "\t[0.91837897 0.08162103]\n"
     ]
    }
   ],
   "source": []
  },
  {
   "cell_type": "markdown",
   "metadata": {},
   "source": [
    "## single-column figure\n",
    "\n",
    "Version 1: two figures on shared axis showing the model is very different from graded human response \n",
    "\n",
    "Version 2: one figure with graded human response, but color as xlnet prediction"
   ]
  },
  {
   "cell_type": "code",
   "execution_count": 16,
   "metadata": {},
   "outputs": [
    {
     "name": "stdout",
     "output_type": "stream",
     "text": [
      "dict_keys(['bilinear_xlnet-base-cased', 'baseline_xlnet-base-cased', 'baseline_bert-base-cased', 'bilinear_bert-base-cased', 'bilinear_roberta-base', 'baseline_roberta-base', 'sequence_roberta-base', 'sequence_xlnet-base-cased', 'sequence_bert-base-cased'])\n"
     ]
    },
    {
     "data": {
      "text/plain": [
       "<Figure size 432x288 with 0 Axes>"
      ]
     },
     "metadata": {},
     "output_type": "display_data"
    },
    {
     "data": {
      "image/png": "[encoded data removed]",
      "text/plain": [
       "<Figure size 432x216 with 2 Axes>"
      ]
     },
     "metadata": {
      "needs_background": "light"
     },
     "output_type": "display_data"
    }
   ],
   "source": [
    "import os\n",
    "from analysis import parse_csv\n",
    "from collections import defaultdict, OrderedDict \n",
    "import numpy as np \n",
    "import seaborn as sns\n",
    "import pandas as pd\n",
    "import matplotlib \n",
    "from matplotlib import pyplot as plt \n",
    "\n",
    "font = {'family' : 'Times New Roman',\n",
    "        'weight' : 'normal',\n",
    "        'size'   : 20}\n",
    "\n",
    "matplotlib.rc('font', **font)\n",
    "\n",
    "def group_by(res_lines, variable_name):\n",
    "    to_ret = defaultdict(list)\n",
    "    for line in res_lines:\n",
    "        interest_key = line[variable_name]\n",
    "        to_ret[interest_key].append(line)\n",
    "        \n",
    "    return to_ret\n",
    "\n",
    "def sort_by_fxn(res_dict, fxn):\n",
    "    new_dict = OrderedDict()\n",
    "#     average = lambda x: sum(x)/len(x)\n",
    "    to_sort = []\n",
    "    for key, values in res_dict.items():\n",
    "        ps = [line['p_true'] for line in values]\n",
    "        score = fxn(ps)\n",
    "        to_sort.append((score, key, values))\n",
    "    to_sort = sorted(to_sort, key = lambda x: x[0])\n",
    "    \n",
    "    for __, key, values in to_sort:\n",
    "        new_dict[key] = values\n",
    "    return new_dict\n",
    "\n",
    "res_lines = parse_csv(\"/Users/Elias/Desktop/all_10.csv\")\n",
    "figure_path = \"/Users/Elias/analytic-acl-2020/figures/\"\n",
    "\n",
    "by_sent = group_by(res_lines, \"sent\")\n",
    "by_sent_sorted_avg = sort_by_fxn(by_sent, lambda x: np.mean(x))\n",
    "by_sent_sorted_std_dev = sort_by_fxn(by_sent, lambda x: np.std(x))\n",
    "\n",
    "xs = np.arange(len(by_sent_sorted_avg.keys()))\n",
    "human_ys = [np.mean([line['p_true']  for line in by_sent_sorted_avg[key] ] ) for key in by_sent_sorted_avg.keys() ]\n",
    "sents = [line[0]['sent'] for line in by_sent_sorted_avg.values()]\n",
    "\n",
    "true_colors = [lines[0]['label'] for lines in by_sent_sorted_avg.values() ]\n",
    "print(all_dev_logits.keys())\n",
    "model_preds = all_dev_logits['sequence_xlnet-base-cased']\n",
    "model_ys = [model_preds[sent][1] for sent in by_sent_sorted_avg.keys()]\n",
    "\n",
    "\n",
    "# palette = {\"True\": \"#91bfdb\" ,\n",
    "#            \"False\": \"#fc8d59\",\n",
    "#           \"tshirt1\": ,\n",
    "#           \"tshirt2\": ,\n",
    "#            \"journalism\": ,\n",
    "#            \"teammate\":           }\n",
    "\n",
    "palette = {\"True\": '#4575b4' ,\n",
    "           \"False\": '#d73027',\n",
    "          \"tshirt1\": '#e0f3f8',\n",
    "          \"tshirt2\": '#fee090',\n",
    "           \"journalism\": '#fc8d59',\n",
    "           \"teammate\": '#91bfdb'}\n",
    "\n",
    "markers = {\"True\": \".\" ,\n",
    "           \"False\": \".\"}\n",
    "\n",
    "\n",
    "sentences_of_interest = {'T-shirt is an archaic term for clothing': \"tshirt1\", \n",
    "                         'journalism is newspapers and magazines collectively': \"journalism\",\n",
    "                        'T-shirt is a close-fitting pullover shirt':\"tshirt2\", \n",
    "                         'a teammate is someone who is under suspicion':\"teammate\"}\n",
    "\n",
    "\n",
    "# VERSION 1\n",
    "plt.figure()\n",
    "fig, axs = plt.subplots(2, 1, sharex='col', figsize=(6,3))\n",
    "for x, y, c, s in zip(xs, human_ys, true_colors, sents):\n",
    "    color =c \n",
    "    if s in sentences_of_interest.keys():\n",
    "        color =  sentences_of_interest[s]\n",
    "    \n",
    "    axs[0].scatter([x], [y], s = 150, marker = markers[c], color = palette[color])\n",
    "\n",
    "for x, y, c, s in zip(xs, model_ys, true_colors, sents):\n",
    "    color=c\n",
    "    if s in sentences_of_interest.keys():\n",
    "        color =  sentences_of_interest[s]\n",
    "    axs[1].scatter([x], [y], s = 150, marker = markers[c], color = palette[color])  \n",
    "\n",
    "axs[1].set_yticks([0.0, 1.0])\n",
    "axs[1].set_yticklabels([0.0, 1.0])\n",
    "for i in range(len(axs)):\n",
    "    axs[i].set_xticks([])\n",
    "    axs[i].set_xticklabels([])\n",
    "    axs[i].spines['right'].set_visible(False)\n",
    "    axs[i].spines['top'].set_visible(False)\n",
    "#     axs[i].spines['bottom'].set_visible(False)\n",
    "#     axs[i].spines['left'].set_visible(False)\n",
    "# axs[0].spines['bottom'].set_visible(True)\n",
    "plt.tight_layout()\n",
    "plt.savefig(os.path.join(figure_path, \"scores_version_1.pdf\")) \n",
    "# VERSION 2\n",
    "if False:\n",
    "\n",
    "\n",
    "\n",
    "\n",
    "    plt.figure()\n",
    "    fig, axs = plt.subplots(1, 1, sharex='col', figsize=(8, 3))\n",
    "    model_colors = [\"True\" if y > 0.50 else \"False\" for y in model_ys ]\n",
    "\n",
    "    for x, y, c in zip(xs, human_ys, model_colors):\n",
    "        axs.scatter([x], [y], s = 150, marker = markers[c], color = palette[c])\n",
    "\n",
    "    axs.set_xticks([])\n",
    "    axs.set_xticklabels([])\n",
    "    axs.spines['right'].set_visible(False)\n",
    "    axs.spines['top'].set_visible(False)\n",
    "    # axs.spines['bottom'].set_visible(False)\n",
    "    # axs.spines['left'].set_visible(False)\n",
    "\n",
    "    plt.tight_layout()\n",
    "    plt.savefig(os.path.join(figure_path, \"scores_version_2.pdf\")) \n",
    "\n",
    "    # plt.fill_between(data_frame['example'], \n",
    "    #                  data_frame['mean'] - data_frame['std_dev'],\n",
    "    #                  data_frame['mean'] +  data_frame['std_dev'],\n",
    "    #                 alpha = 0.3)\n",
    "\n",
    "\n",
    "\n"
   ]
  },
  {
   "cell_type": "code",
   "execution_count": 25,
   "metadata": {},
   "outputs": [
    {
     "name": "stdout",
     "output_type": "stream",
     "text": [
      "a separation is the state of lacking unity\n",
      "True\n"
     ]
    }
   ],
   "source": []
  },
  {
   "cell_type": "code",
   "execution_count": null,
   "metadata": {},
   "outputs": [],
   "source": []
  }
 ],
 "metadata": {
  "kernelspec": {
   "display_name": "Python 3",
   "language": "python",
   "name": "python3"
  },
  "language_info": {
   "codemirror_mode": {
    "name": "ipython",
    "version": 3
   },
   "file_extension": ".py",
   "mimetype": "text/x-python",
   "name": "python",
   "nbconvert_exporter": "python",
   "pygments_lexer": "ipython3",
   "version": "3.7.7"
  }
 },
 "nbformat": 4,
 "nbformat_minor": 2
}
