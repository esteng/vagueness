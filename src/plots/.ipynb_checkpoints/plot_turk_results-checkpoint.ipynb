{
 "cells": [
  {
   "cell_type": "code",
   "execution_count": 36,
   "metadata": {},
   "outputs": [],
   "source": [
    "import os\n",
    "import sys\n",
    "sys.path.insert(0, \"../turk/analysis\")\n",
    "from analysis import parse_csv\n",
    "from collections import defaultdict, OrderedDict \n",
    "import numpy as np \n",
    "import seaborn as sns \n",
    "from matplotlib import pyplot as plt\n",
    "\n",
    "def group_by(res_lines, variable_name):\n",
    "    to_ret = defaultdict(list)\n",
    "    for line in res_lines:\n",
    "        interest_key = line[variable_name]\n",
    "        to_ret[interest_key].append(line)\n",
    "        \n",
    "    return to_ret\n",
    "\n",
    "def sort_by_fxn(res_dict, fxn):\n",
    "    new_dict = OrderedDict()\n",
    "#     average = lambda x: sum(x)/len(x)\n",
    "    to_sort = []\n",
    "    for key, values in res_dict.items():\n",
    "        ps = [line['p_true'] for line in values]\n",
    "        score = fxn(ps)\n",
    "        to_sort.append((score, key, values))\n",
    "    to_sort = sorted(to_sort, key = lambda x: x[0])\n",
    "    \n",
    "    for __, key, values in to_sort:\n",
    "        new_dict[key] = values\n",
    "    return new_dict\n",
    "\n",
    "res_lines = parse_csv(\"/Users/Elias/vagueness/results/turk/gqa/clean_and_norm_young.csv\")\n",
    "figure_path = \"/Users/Elias//vagueness-2020/figures/\"\n",
    "\n",
    "# print(res_lines[0].keys())\n",
    "# by_sent = group_by(res_lines, \"sent\")\n",
    "# add IDs\n",
    "# for i, line in enumerate(res_lines):\n",
    "#     unique_id = f\"{line['assignment_id']}-{line['sent']}\"\n",
    "#     line[\"unique_id\"] = unique_id\n",
    "#     res_lines[i] = line\n",
    "    \n",
    "\n",
    "by_sent = group_by(res_lines, \"question_id\")\n",
    "\n",
    "by_sent_sorted_avg = sort_by_fxn(by_sent, lambda x: np.mean(x))\n",
    "by_sent_sorted_std_dev = sort_by_fxn(by_sent, lambda x: np.std(x))\n",
    "\n",
    "# print(by_ass)\n",
    "# print(len(by_ass[\"3HVVDCPGTFX008I22DLYWJIDB3ZYTB-Is the sky cloudy?\"]))\n"
   ]
  },
  {
   "cell_type": "code",
   "execution_count": 37,
   "metadata": {},
   "outputs": [
    {
     "data": {
      "text/plain": [
       "<module 'matplotlib.pyplot' from '/Users/Elias/miniconda3/envs/vagueness/lib/python3.7/site-packages/matplotlib/pyplot.py'>"
      ]
     },
     "execution_count": 37,
     "metadata": {},
     "output_type": "execute_result"
    },
    {
     "data": {
      "text/plain": [
       "<Figure size 432x288 with 0 Axes>"
      ]
     },
     "metadata": {},
     "output_type": "display_data"
    },
    {
     "data": {
      "image/png": "[encoded data removed]",
      "text/plain": [
       "<Figure size 432x216 with 1 Axes>"
      ]
     },
     "metadata": {
      "needs_background": "light"
     },
     "output_type": "display_data"
    }
   ],
   "source": [
    "import pandas as pd\n",
    "import matplotlib\n",
    "from matplotlib import pyplot as plt\n",
    "from matplotlib import cm\n",
    "from matplotlib.colors import ListedColormap, LinearSegmentedColormap\n",
    "font = {'family' : 'Times New Roman',\n",
    "        'weight' : 'normal',\n",
    "        'size'   : 28}\n",
    "\n",
    "matplotlib.rc('font', **font)\n",
    "\n",
    "import os\n",
    "from analysis import parse_csv\n",
    "from collections import defaultdict, OrderedDict \n",
    "import numpy as np \n",
    "import seaborn as sns\n",
    "import pandas as pd\n",
    "import matplotlib \n",
    "from matplotlib import pyplot as plt \n",
    "\n",
    "font = {'family' : 'Times New Roman',\n",
    "        'weight' : 'normal',\n",
    "        'size'   : 20}\n",
    "\n",
    "matplotlib.rc('font', **font)\n",
    "\n",
    "\n",
    "def plot_data(human_data):\n",
    "\n",
    "    xs = np.arange(len(data.keys()))\n",
    "\n",
    "    human_ys = [np.mean([line['p_true']  for line in data[key] ] ) for key in human_data.keys() ]\n",
    "    human_std_dev = np.array([np.mean([line['p_true']  for line in human_data[key] ] ) for key in human_data.keys() ])\n",
    "    human_std_err = human_std_dev / np.sqrt(len(human_ys))\n",
    "    \n",
    "    \n",
    "    sents = [line[0]['sent'] for line in human_data.values()]\n",
    "\n",
    "    all_lines = [lines[0] for lines in human_data.values() ]\n",
    "\n",
    "\n",
    "    true_colors = [\"True\" if np.mean([line['p_true']  for line in data[key] ]) > 50 else \"False\" for key in data.keys() ]\n",
    "\n",
    "\n",
    "    palette = {\"True\": '#4575b4' ,\n",
    "               \"False\": '#d73027'}\n",
    "    markers = {\"True\": \".\" ,\n",
    "               \"False\": \".\"}\n",
    "\n",
    "    plt.figure()\n",
    "    fig, axs = plt.subplots(1, 1, sharex='col', figsize=(6,3))\n",
    "    axs.fill_between(xs, human_ys - human_std_err, human_ys + human_std_err, color=(0,0,0,0.3))\n",
    "\n",
    "\n",
    "    for x, y, c, s in zip(xs, human_ys, true_colors, sents):\n",
    "        color =c  \n",
    "        axs.scatter([x], [y], s = 150, marker = markers[c], color = palette[color])\n",
    "        \n",
    "\n",
    "    axs.set_yticks([0.0, 100])\n",
    "    axs.set_yticklabels([0.0, 100])\n",
    "\n",
    "\n",
    "    axs.set_xticks([])\n",
    "    axs.set_xticklabels([])\n",
    "    axs.spines['right'].set_visible(False)\n",
    "    axs.spines['top'].set_visible(False)\n",
    "    axs.spines['bottom'].set_visible(False)\n",
    "#     axs.spines['left'].set_visible(False)\n",
    "    axs.spines['bottom'].set_visible(True)\n",
    "    plt.tight_layout()\n",
    "#     plt.savefig(os.path.join(figure_path, \"sunn_normalized.pdf\")) \n",
    "    return plt\n",
    "\n",
    "\n",
    "plot_data(by_sent_sorted_avg)"
   ]
  },
  {
   "cell_type": "code",
   "execution_count": 31,
   "metadata": {},
   "outputs": [],
   "source": [
    "from scipy.optimize import curve_fit\n",
    "import numpy as np\n",
    "\n",
    "def sigmoid(x, x0, k):\n",
    "    return 1.0 / (1.0 + np.exp(-k * (x-x0)))\n",
    "\n",
    "def fit_sigmoid(data):\n",
    "    xs = np.arange(len(data.keys()))\n",
    "    ys = [np.mean([line['p_true']  for line in data[key] ] ) for key in data.keys() ]\n",
    "    ys = np.array(ys)/100\n",
    "    bounds=([0,len(xs)+2], [0.01, 2])\n",
    "    popt, pcov = curve_fit(sigmoid, xs, ys, p0= [20, 0.1], method='dogbox')\n",
    "    pred_ys = np.array([sigmoid(x, popt[0], popt[1]) for x in xs])\n",
    "    # use mean squared error\n",
    "    goodness_of_fit = np.sqrt(np.sum((pred_ys - ys)**2) / len(pred_ys))\n",
    "    return goodness_of_fit, popt"
   ]
  },
  {
   "cell_type": "code",
   "execution_count": 15,
   "metadata": {},
   "outputs": [
    {
     "name": "stdout",
     "output_type": "stream",
     "text": [
      "goodness of fit: 0.026843213269857027\n"
     ]
    }
   ],
   "source": [
    "gof, popt = fit_sigmoid(by_sent_sorted_avg)\n",
    "print(f\"goodness of fit: {gof}\")"
   ]
  },
  {
   "cell_type": "code",
   "execution_count": 125,
   "metadata": {},
   "outputs": [
    {
     "data": {
      "text/plain": [
       "<Figure size 432x288 with 0 Axes>"
      ]
     },
     "metadata": {},
     "output_type": "display_data"
    },
    {
     "data": {
      "image/png": "[encoded data removed]",
      "text/plain": [
       "<Figure size 432x216 with 1 Axes>"
      ]
     },
     "metadata": {
      "needs_background": "light"
     },
     "output_type": "display_data"
    }
   ],
   "source": [
    "\n",
    "xs = np.arange(len(by_sent_sorted_avg.keys()))\n",
    "\n",
    "human_ys = [np.mean([line['p_true']  for line in by_sent_sorted_avg[key] ] ) for key in by_sent_sorted_avg.keys() ]\n",
    "\n",
    "sents = [line[0]['sent'] for line in by_sent_sorted_avg.values()]\n",
    "\n",
    "all_lines = [lines[0] for lines in by_sent_sorted_avg.values() ]\n",
    "\n",
    "\n",
    "true_colors = [\"True\" if np.mean([line['p_true']  for line in by_sent_sorted_avg[key] ]) > 50 else \"False\" for key in by_sent_sorted_avg.keys() ]\n",
    "\n",
    "\n",
    "palette = {\"True\": '#4575b4' ,\n",
    "           \"False\": '#d73027',\n",
    "          \"tshirt1\": '#e0f3f8',\n",
    "          \"tshirt2\": '#fee090',\n",
    "           \"journalism\": '#fc8d59',\n",
    "           \"teammate\": '#91bfdb'}\n",
    "\n",
    "markers = {\"True\": \".\" ,\n",
    "           \"False\": \".\"}\n",
    "\n",
    "\n",
    "# VERSION 1\n",
    "plt.figure()\n",
    "fig, axs = plt.subplots(1, 1, sharex='col', figsize=(6,3))\n",
    "for x, y, c, s in zip(xs, human_ys, true_colors, sents):\n",
    "    color =c  \n",
    "    axs.scatter([x], [y], s = 150, marker = markers[c], color = palette[color])\n",
    "\n",
    "axs.set_yticks([0.0, 100])\n",
    "axs.set_yticklabels([0.0, 100])\n",
    "\n",
    "# add predicted sigmoid \n",
    "sig_xs = np.linspace(xs[0], xs[-1])\n",
    "sig_ys = np.array([sigmoid(x, popt[0], popt[1]) for x in sig_xs]) * 100\n",
    "plt.plot(sig_xs, sig_ys, '-')\n",
    "\n",
    "plt.tight_layout()\n",
    "# plt.savefig(os.path.join(figure_path, \"scores_version_1.pdf\")) \n",
    "plt.show() \n",
    "\n",
    "\n",
    "\n"
   ]
  },
  {
   "cell_type": "code",
   "execution_count": 127,
   "metadata": {},
   "outputs": [
    {
     "name": "stdout",
     "output_type": "stream",
     "text": [
      "baseline goodness 0.07357344866446512\n"
     ]
    },
    {
     "data": {
      "image/png": "[encoded data removed]",
      "text/plain": [
       "<Figure size 432x288 with 1 Axes>"
      ]
     },
     "metadata": {
      "needs_background": "light"
     },
     "output_type": "display_data"
    }
   ],
   "source": [
    "\n",
    "# baseline fitting \n",
    "\n",
    "\n",
    "xs = np.linspace(0, len(sig_xs)) \n",
    "ys = np.random.uniform(0, 1, len(xs))\n",
    "plt.plot(xs, ys, \".\")\n",
    "popt, pcov = curve_fit(sigmoid, xs, ys, p0= [20, 0.1], method='dogbox')\n",
    "\n",
    "\n",
    "\n",
    "sig_xs = np.linspace(xs[0], xs[-1])\n",
    "sig_ys = np.array([sigmoid(x, popt[0], popt[1]) for x in sig_xs])\n",
    "plt.plot(sig_xs, sig_ys, '-')\n",
    "pred_ys = np.array([sigmoid(x, popt[0], popt[1]) for x in xs])\n",
    "# use mean squared error\n",
    "baseline_gof = np.sum((pred_ys - ys)**2) / len(pred_ys)\n",
    "\n",
    "print(f\"baseline goodness {baseline_gof}\")\n"
   ]
  },
  {
   "cell_type": "code",
   "execution_count": 117,
   "metadata": {},
   "outputs": [],
   "source": [
    "## quantifying all predicates\n",
    "## fit a sigmoid to k-1 predicates, measure gof on held-out \n",
    "## repeat k times and average \n",
    "\n",
    "\n"
   ]
  },
  {
   "cell_type": "code",
   "execution_count": null,
   "metadata": {},
   "outputs": [],
   "source": []
  }
 ],
 "metadata": {
  "kernelspec": {
   "display_name": "Python 3",
   "language": "python",
   "name": "python3"
  },
  "language_info": {
   "codemirror_mode": {
    "name": "ipython",
    "version": 3
   },
   "file_extension": ".py",
   "mimetype": "text/x-python",
   "name": "python",
   "nbconvert_exporter": "python",
   "pygments_lexer": "ipython3",
   "version": "3.7.7"
  }
 },
 "nbformat": 4,
 "nbformat_minor": 4
}
