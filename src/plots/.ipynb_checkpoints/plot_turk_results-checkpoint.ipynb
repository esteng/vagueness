{
 "cells": [
  {
   "cell_type": "code",
   "execution_count": 2,
   "metadata": {},
   "outputs": [
    {
     "ename": "ModuleNotFoundError",
     "evalue": "No module named 'seaborn'",
     "output_type": "error",
     "traceback": [
      "\u001b[0;31m---------------------------------------------------------------------------\u001b[0m",
      "\u001b[0;31mModuleNotFoundError\u001b[0m                       Traceback (most recent call last)",
      "\u001b[0;32m<ipython-input-2-6c069740c5c0>\u001b[0m in \u001b[0;36m<module>\u001b[0;34m\u001b[0m\n\u001b[1;32m      5\u001b[0m \u001b[0;32mfrom\u001b[0m \u001b[0mcollections\u001b[0m \u001b[0;32mimport\u001b[0m \u001b[0mdefaultdict\u001b[0m\u001b[0;34m,\u001b[0m \u001b[0mOrderedDict\u001b[0m\u001b[0;34m\u001b[0m\u001b[0;34m\u001b[0m\u001b[0m\n\u001b[1;32m      6\u001b[0m \u001b[0;32mimport\u001b[0m \u001b[0mnumpy\u001b[0m \u001b[0;32mas\u001b[0m \u001b[0mnp\u001b[0m\u001b[0;34m\u001b[0m\u001b[0;34m\u001b[0m\u001b[0m\n\u001b[0;32m----> 7\u001b[0;31m \u001b[0;32mimport\u001b[0m \u001b[0mseaborn\u001b[0m \u001b[0;32mas\u001b[0m \u001b[0msns\u001b[0m\u001b[0;34m\u001b[0m\u001b[0;34m\u001b[0m\u001b[0m\n\u001b[0m\u001b[1;32m      8\u001b[0m \u001b[0;32mfrom\u001b[0m \u001b[0mmatplotlib\u001b[0m \u001b[0;32mimport\u001b[0m \u001b[0mpyplot\u001b[0m \u001b[0;32mas\u001b[0m \u001b[0mplt\u001b[0m\u001b[0;34m\u001b[0m\u001b[0;34m\u001b[0m\u001b[0m\n\u001b[1;32m      9\u001b[0m \u001b[0;34m\u001b[0m\u001b[0m\n",
      "\u001b[0;31mModuleNotFoundError\u001b[0m: No module named 'seaborn'"
     ]
    }
   ],
   "source": [
    "import os\n",
    "import sys\n",
    "sys.path.insert(0, \"../turk/analysis\")\n",
    "from analysis import parse_csv\n",
    "from collections import defaultdict, OrderedDict \n",
    "import numpy as np \n",
    "import seaborn as sns \n",
    "from matplotlib import pyplot as plt\n",
    "\n",
    "def group_by(res_lines, variable_name):\n",
    "    to_ret = defaultdict(list)\n",
    "    for line in res_lines:\n",
    "        interest_key = line[variable_name]\n",
    "        to_ret[interest_key].append(line)\n",
    "        \n",
    "    return to_ret\n",
    "\n",
    "def sort_by_fxn(res_dict, fxn):\n",
    "    new_dict = OrderedDict()\n",
    "#     average = lambda x: sum(x)/len(x)\n",
    "    to_sort = []\n",
    "    for key, values in res_dict.items():\n",
    "        ps = [line['p_true'] for line in values]\n",
    "        score = fxn(ps)\n",
    "        to_sort.append((score, key, values))\n",
    "    to_sort = sorted(to_sort, key = lambda x: x[0])\n",
    "    \n",
    "    for __, key, values in to_sort:\n",
    "        new_dict[key] = values\n",
    "    return new_dict\n",
    "\n",
    "res_lines = parse_csv(\"/Users/Elias/vagueness/results/turk/gqa/pilot_cloudy_results.csv\")\n",
    "figure_path = \"/Users/Elias/papers/vagueness-eacl-2020/figures/\"\n",
    "\n",
    "by_sent = group_by(res_lines, \"sent\")\n",
    "by_sent_sorted_avg = sort_by_fxn(by_sent, lambda x: np.mean(x))\n",
    "by_sent_sorted_std_dev = sort_by_fxn(by_sent, lambda x: np.std(x))\n",
    "\n"
   ]
  },
  {
   "cell_type": "code",
   "execution_count": null,
   "metadata": {},
   "outputs": [],
   "source": []
  }
 ],
 "metadata": {
  "kernelspec": {
   "display_name": "Python 3",
   "language": "python",
   "name": "python3"
  },
  "language_info": {
   "codemirror_mode": {
    "name": "ipython",
    "version": 3
   },
   "file_extension": ".py",
   "mimetype": "text/x-python",
   "name": "python",
   "nbconvert_exporter": "python",
   "pygments_lexer": "ipython3",
   "version": "3.7.7"
  }
 },
 "nbformat": 4,
 "nbformat_minor": 4
}
